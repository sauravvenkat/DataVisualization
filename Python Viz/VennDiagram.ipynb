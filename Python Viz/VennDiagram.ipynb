{
 "cells": [
  {
   "cell_type": "code",
   "execution_count": 2,
   "metadata": {
    "collapsed": true
   },
   "outputs": [],
   "source": [
    "import pandas as pd\n",
    "import xlrd\n",
    "from matplotlib import pyplot as plt\n",
    "from matplotlib_venn import *"
   ]
  },
  {
   "cell_type": "code",
   "execution_count": 9,
   "metadata": {},
   "outputs": [
    {
     "data": {
      "text/plain": [
       "['Botox', 'Botulinum Toxin', 'Dysport']"
      ]
     },
     "execution_count": 9,
     "metadata": {},
     "output_type": "execute_result"
    }
   ],
   "source": [
    "#enter Excel File name in format 'VennDiagram.xlsx'\n",
    "Venn = pd.ExcelFile('VennDiagram.xlsx')\n",
    "\n",
    "#Enter Sheet name ex: 'Sheet1'\n",
    "df = Venn.parse()\n",
    "colnames = []\n",
    "for i in range(len(df.columns.values)):\n",
    "    colnames.append(str(df.columns.values[i]))\n",
    "colnames\n"
   ]
  },
  {
   "cell_type": "code",
   "execution_count": 10,
   "metadata": {},
   "outputs": [
    {
     "data": {
      "image/png": "[encoded data removed]",
      "text/plain": [
       "<matplotlib.figure.Figure at 0x111d37ed0>"
      ]
     },
     "metadata": {},
     "output_type": "display_data"
    }
   ],
   "source": [
    "from matplotlib import pyplot as plt\n",
    "from matplotlib_venn import *\n",
    "\n",
    "#If data has 3 sets to compare\n",
    "if len(colnames) == 3:\n",
    "    one = list(df[colnames[0]])\n",
    "    one_total = 0\n",
    "    two = list(df[colnames[1]])\n",
    "    two_total = 0\n",
    "    three = list(df[colnames[2]])\n",
    "    three_total = 0\n",
    "    one_two = []\n",
    "    one_three = []\n",
    "    two_three = []\n",
    "    one_two_three = []\n",
    "\n",
    "    for i in range(len(one)):\n",
    "        if one[i] == 1 and two[i] == 1 and three[i] == 0:\n",
    "            one_two.append(1)\n",
    "        else:\n",
    "            one_two.append(0)\n",
    "        \n",
    "        if one[i] == 1 and three[i] == 1 and two[i] == 0:\n",
    "            one_three.append(1)\n",
    "        else:\n",
    "            one_three.append(0)\n",
    "        \n",
    "        if two[i] == 1 and three[i] == 1 and one[i] == 0:\n",
    "            two_three.append(1)\n",
    "        else:\n",
    "            two_three.append(0)\n",
    "        \n",
    "        if  one[i] == 1 and two[i] == 1 and three[i] == 1:\n",
    "            one_two_three.append(1)\n",
    "        else:\n",
    "            one_two_three.append(0)\n",
    "        \n",
    "        if one[i] == 1 and two[i] == 0 and three[i] == 0:\n",
    "            one_total += 1\n",
    "        elif one[i] == 0 and two[i] == 1 and three[i] == 0:\n",
    "            two_total += 1\n",
    "        elif one[i] == 0 and two[i] == 0 and three[i] == 1:\n",
    "            three_total += 1\n",
    "    \n",
    "    one_two_total = sum(one_two)\n",
    "    one_three_total = sum(one_three)\n",
    "    two_three_total = sum(two_three)\n",
    "    one_two_three_total = sum(one_two_three)\n",
    "    \n",
    "    s = (\n",
    "    one_total,    \n",
    "    two_total,   \n",
    "    one_two_total,    \n",
    "    three_total,    \n",
    "    one_three_total,    \n",
    "    two_three_total,  \n",
    "    one_two_three_total,\n",
    "    )\n",
    "    v = venn3(subsets=s, set_labels=('', '', ''))\n",
    "    \n",
    "    #Change color pallette of different Venn Diagram regions here\n",
    "    v.get_patch_by_id('100').set_color('#10abf3')\n",
    "    v.get_patch_by_id('010').set_color('')\n",
    "    v.get_patch_by_id('001').set_color('grey')\n",
    "#     v.get_patch_by_id('110').set_color('#c41230')\n",
    "#     v.get_patch_by_id('101').set_color('#ffcc2d')\n",
    "    \n",
    "    c = venn3_circles(subsets=s, linestyle='solid')\n",
    "    c[0].set_ls('solid')  # Line style\n",
    "    c[1].set_ls('solid')\n",
    "    c[2].set_lw(1.0)\n",
    "    \n",
    "    plt.annotate(colnames[2], xy = v.get_label_by_id('001').get_position(), xytext = (60,-10), size = 'x-large',\n",
    "            ha = 'center', textcoords = 'offset points', bbox = dict(boxstyle = 'round, pad = 0.5', fc = 'lime', alpha = 0.3),\n",
    "            arrowprops = dict(arrowstyle = '->', connectionstyle = 'arc3, rad = 0.5', color = 'black'))\n",
    "    \n",
    "    plt.annotate(colnames[0], xy = v.get_label_by_id('100').get_position(), xytext = (-40,90), size = 'x-large',\n",
    "            ha = 'center', textcoords = 'offset points', bbox = dict(boxstyle = 'round, pad = 0.5', fc = 'lime', alpha = 0.3), arrowprops = dict(arrowstyle = '->', connectionstyle = 'arc3, rad = 0.5', color = 'black'))\n",
    "\n",
    "    plt.annotate(colnames[1], xy = v.get_label_by_id('010').get_position(), xytext = (5,75), size = 'x-large',\n",
    "            ha = 'center', textcoords = 'offset points', bbox = dict(boxstyle = 'round, pad = 0.5', fc = 'lime', alpha = 0.3),\n",
    "            arrowprops = dict(arrowstyle = '->', connectionstyle = 'arc3, rad = 0.5', color = 'black'))\n",
    "    \n",
    "    plt.show()\n",
    "    \n",
    "elif len(colnames) == 2:\n",
    "    one = list(df[colnames[0]])\n",
    "    one_total = 0\n",
    "    two = list(df[colnames[1]])\n",
    "    two_total = 0\n",
    "    one_two = []\n",
    "    for i in range(len(one)):\n",
    "        if one[i] == 1 and two[i] == 1:\n",
    "            one_two.append(1)\n",
    "        else:\n",
    "            one_two.append(0)\n",
    "        if one[i] == 1 and two[i] == 0:\n",
    "            one_total += 1\n",
    "        elif one[i] == 0 and two[i] == 1:\n",
    "            two_total += 1\n",
    "        \n",
    "    one_two_total = sum(one_two)\n",
    "    s = (\n",
    "    one_total,    # Botox\n",
    "    two_total,    # Botox_Dysport\n",
    "    one_two_total,    # Botulinum_Dysport\n",
    "    )\n",
    "    v = venn2(subsets=s, set_labels=('', ''))\n",
    "    v.get_patch_by_id('100').set_color('#ff620a')\n",
    "    v.get_patch_by_id('010').set_color('#10abf3')\n",
    "    v.get_patch_by_id('110').set_color('grey')\n",
    "    c = venn2_circles(subsets=s, linestyle='solid')\n",
    "    c[0].set_ls('solid')  # Line style\n",
    "    c[1].set_ls('solid')\n",
    "    \n",
    "    plt.annotate(colnames[0], xy = v.get_label_by_id('100').get_position(), xytext = (-40,90), size = 'x-large',\n",
    "            ha = 'center', textcoords = 'offset points', bbox = dict(boxstyle = 'round, pad = 0.5', fc = 'lime', alpha = 0.3), arrowprops = dict(arrowstyle = '->', connectionstyle = 'arc3, rad = 0.5', color = 'black'))\n",
    "    \n",
    "    plt.annotate(colnames[1], xy = v.get_label_by_id('010').get_position(), xytext = (5,75), size = 'x-large',\n",
    "            ha = 'center', textcoords = 'offset points', bbox = dict(boxstyle = 'round, pad = 0.5', fc = 'lime', alpha = 0.3),\n",
    "            arrowprops = dict(arrowstyle = '->', connectionstyle = 'arc3, rad = 0.5', color = 'black'))\n",
    "\n",
    "    plt.show()\n",
    "    "
   ]
  },
  {
   "cell_type": "code",
   "execution_count": null,
   "metadata": {
    "collapsed": true
   },
   "outputs": [],
   "source": [
    "# from pandas import ExcelWriter\n",
    "# Output = pd.DataFrame({'Botox': Botox, 'Botulinum Toxin': Botulinum, 'Dysport': Dysport, 'Botox and Botulinum Toxin': Botox_Botulinum, 'Botox and Dysport': Botox_Dysport, 'Botulinum and Dysport': Botulinum_Dysport})\n",
    "# writer = ExcelWriter('PythonExport1.xlsx')\n",
    "# Output.to_excel(writer,'Sheet5')\n",
    "\n",
    "# writer.save()"
   ]
  }
 ],
 "metadata": {
  "kernelspec": {
   "display_name": "Python 2",
   "language": "python",
   "name": "python2"
  },
  "language_info": {
   "codemirror_mode": {
    "name": "ipython",
    "version": 2
   },
   "file_extension": ".py",
   "mimetype": "text/x-python",
   "name": "python",
   "nbconvert_exporter": "python",
   "pygments_lexer": "ipython2",
   "version": "2.7.13"
  }
 },
 "nbformat": 4,
 "nbformat_minor": 2
}
